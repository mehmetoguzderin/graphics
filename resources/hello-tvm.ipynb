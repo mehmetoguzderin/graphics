{
 "cells": [
  {
   "cell_type": "code",
   "execution_count": 1,
   "id": "6dfa83c6",
   "metadata": {},
   "outputs": [],
   "source": [
    "import tvm\n",
    "from tvm import te\n",
    "import numpy as np"
   ]
  },
  {
   "cell_type": "code",
   "execution_count": 2,
   "id": "dd2afb4d",
   "metadata": {},
   "outputs": [],
   "source": [
    "# TVM setup\n",
    "target = tvm.target.Target(target=\"llvm\", host=\"llvm\")\n",
    "device = tvm.device(target.kind.name, 0)"
   ]
  },
  {
   "cell_type": "code",
   "execution_count": 3,
   "id": "fbab63c8",
   "metadata": {},
   "outputs": [],
   "source": [
    "# Kernel that computes element-wise A*B+C\n",
    "#\n",
    "# In C one could write that kernel in at least two ways:\n",
    "#\n",
    "#   for (int i = 0; i < 2; ++i) \n",
    "#     for (int j = 0; j < 2; ++j)\n",
    "#        MUL[i][j] = A[i][j] * B[i][j];\n",
    "#\n",
    "#   for (int i = 0; i < 2; ++i) \n",
    "#     for (int j = 0; j < 2; ++j)\n",
    "#        ADD[i][j] = MUL[i][j] + C[i][j];\n",
    "#\n",
    "# Or the same thing fused:\n",
    "#\n",
    "#   for (int i = 0; i < 2; ++i) \n",
    "#     for (int j = 0; j < 2; ++j)\n",
    "#        MAC[i][j] = A[i][j] * B[i][j] + C[i][j];\n",
    "#\n",
    "\n",
    "m=2\n",
    "n=2\n",
    " \n",
    "A = te.placeholder((m,n), name=\"A\")\n",
    "B = te.placeholder((m,n), name=\"B\")\n",
    "C = te.placeholder((m,n), name=\"C\")\n",
    "\n",
    "MUL = te.compute(\n",
    "    shape=[m,n],\n",
    "    fcompute=lambda i,j: A[i,j]*B[i,j],\n",
    "    name=\"MUL\")\n",
    "\n",
    "ADD = te.compute(\n",
    "    shape=[m,n],\n",
    "    fcompute=lambda i,j: MUL[i,j]+C[i,j],\n",
    "    name=\"ADD\")\n",
    "\n",
    "schedule = te.create_schedule(ADD.op)\n",
    "mac = tvm.build(schedule, [A, B, C, ADD], target, name=\"mac\")"
   ]
  },
  {
   "cell_type": "code",
   "execution_count": 4,
   "id": "e088c8d4",
   "metadata": {},
   "outputs": [
    {
     "data": {
      "text/plain": [
       "(<tvm.nd.NDArray shape=(2, 2), cpu(0)>\n",
       " array([[1., 1.],\n",
       "        [1., 1.]], dtype=float32),\n",
       " <tvm.nd.NDArray shape=(2, 2), cpu(0)>\n",
       " array([[2., 2.],\n",
       "        [2., 2.]], dtype=float32),\n",
       " <tvm.nd.NDArray shape=(2, 2), cpu(0)>\n",
       " array([[3., 3.],\n",
       "        [3., 3.]], dtype=float32),\n",
       " <tvm.nd.NDArray shape=(2, 2), cpu(0)>\n",
       " array([[5., 5.],\n",
       "        [5., 5.]], dtype=float32))"
      ]
     },
     "execution_count": 4,
     "metadata": {},
     "output_type": "execute_result"
    }
   ],
   "source": [
    "# Simple test for mac kernel\n",
    "\n",
    "A = tvm.nd.array(np.array(\n",
    "    [[1,1],[1,1]]).astype(A.dtype), device)\n",
    "\n",
    "B = tvm.nd.array(np.array(\n",
    "    [[2,2],[2,2]]).astype(B.dtype), device)\n",
    "\n",
    "C = tvm.nd.array(np.array(\n",
    "    [[3,3],[3,3]]).astype(C.dtype), device)\n",
    "\n",
    "result = tvm.nd.array(np.array(\n",
    "    [[0,0],[0,0]]).astype(C.dtype), device)\n",
    "\n",
    "mac(A, B, C, result)\n",
    "\n",
    "A, B, C, result"
   ]
  }
 ],
 "metadata": {
  "kernelspec": {
   "display_name": "Python 3",
   "language": "python",
   "name": "python3"
  },
  "language_info": {
   "codemirror_mode": {
    "name": "ipython",
    "version": 3
   },
   "file_extension": ".py",
   "mimetype": "text/x-python",
   "name": "python",
   "nbconvert_exporter": "python",
   "pygments_lexer": "ipython3",
   "version": "3.6.9"
  },
  "pycharm": {
   "stem_cell": {
    "cell_type": "raw",
    "source": [],
    "metadata": {
     "collapsed": false
    }
   }
  }
 },
 "nbformat": 4,
 "nbformat_minor": 5
}